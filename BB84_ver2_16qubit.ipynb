{
 "cells": [
  {
   "cell_type": "code",
   "execution_count": 1,
   "metadata": {},
   "outputs": [],
   "source": [
    "from qiskit import QuantumCircuit, ClassicalRegister, QuantumRegister\n",
    "import numpy as np\n",
    "import qiskit\n",
    "%matplotlib inline"
   ]
  },
  {
   "cell_type": "code",
   "execution_count": 2,
   "metadata": {},
   "outputs": [
    {
     "name": "stdout",
     "output_type": "stream",
     "text": [
      "0 or 1 qubit : [1, 1, 0, 0, 1, 0, 0, 1, 0, 1, 0, 1, 1, 0, 1, 1]\n",
      "Z or X basis : [1, 0, 1, 0, 0, 0, 1, 1, 0, 0, 1, 1, 1, 1, 0, 1]\n",
      "Alice create |-> photon\n",
      "Alice create |1> photon\n",
      "Alice create |+> photon\n",
      "Alice create |0> photon\n",
      "Alice create |1> photon\n",
      "Alice create |0> photon\n",
      "Alice create |+> photon\n",
      "Alice create |-> photon\n",
      "Alice create |0> photon\n",
      "Alice create |1> photon\n",
      "Alice create |+> photon\n",
      "Alice create |-> photon\n",
      "Alice create |-> photon\n",
      "Alice create |+> photon\n",
      "Alice create |1> photon\n",
      "Alice create |-> photon\n"
     ]
    }
   ],
   "source": [
    "n=16\n",
    "\n",
    "import random\n",
    "def random_01str(list):\n",
    "    for i in range(n):\n",
    "        list.append(random.randint(0,1))\n",
    "\n",
    "#Alice\n",
    "alice_1=[]\n",
    "random_01str(alice_1)\n",
    "print(\"0 or 1 qubit : {}\".format(alice_1))\n",
    "\n",
    "alice_2=[]\n",
    "random_01str(alice_2)\n",
    "print(\"Z or X basis : {}\".format(alice_2))\n",
    "\n",
    "for j in range(n):\n",
    "    if not alice_1[j] and (not alice_2[j]):\n",
    "        print(\"Alice create |0> photon\")\n",
    "    elif alice_1[j] and (not alice_2[j]):\n",
    "        print(\"Alice create |1> photon\")\n",
    "    elif not alice_1[j] and alice_2[j]:\n",
    "        print(\"Alice create |+> photon\")\n",
    "    elif alice_1[j] and alice_2[j]:\n",
    "        print(\"Alice create |-> photon\")"
   ]
  },
  {
   "cell_type": "code",
   "execution_count": 3,
   "metadata": {},
   "outputs": [
    {
     "data": {
      "text/html": [
       "<pre style=\"word-wrap: normal;white-space: pre;line-height: 15px;\">         ┌───┐┌───┐ ░ \n",
       " q_0: |0>┤ X ├┤ H ├─░─\n",
       "         ├───┤└───┘ ░ \n",
       " q_1: |0>┤ X ├──────░─\n",
       "         ├───┤      ░ \n",
       " q_2: |0>┤ H ├──────░─\n",
       "         └───┘      ░ \n",
       " q_3: |0>───────────░─\n",
       "         ┌───┐      ░ \n",
       " q_4: |0>┤ X ├──────░─\n",
       "         └───┘      ░ \n",
       " q_5: |0>───────────░─\n",
       "         ┌───┐      ░ \n",
       " q_6: |0>┤ H ├──────░─\n",
       "         ├───┤┌───┐ ░ \n",
       " q_7: |0>┤ X ├┤ H ├─░─\n",
       "         └───┘└───┘ ░ \n",
       " q_8: |0>───────────░─\n",
       "         ┌───┐      ░ \n",
       " q_9: |0>┤ X ├──────░─\n",
       "         ├───┤      ░ \n",
       "q_10: |0>┤ H ├──────░─\n",
       "         ├───┤┌───┐ ░ \n",
       "q_11: |0>┤ X ├┤ H ├─░─\n",
       "         ├───┤├───┤ ░ \n",
       "q_12: |0>┤ X ├┤ H ├─░─\n",
       "         ├───┤└───┘ ░ \n",
       "q_13: |0>┤ H ├──────░─\n",
       "         ├───┤      ░ \n",
       "q_14: |0>┤ X ├──────░─\n",
       "         ├───┤┌───┐ ░ \n",
       "q_15: |0>┤ X ├┤ H ├─░─\n",
       "         └───┘└───┘ ░ </pre>"
      ],
      "text/plain": [
       "<qiskit.visualization.text.TextDrawing at 0x7f31a2f45908>"
      ]
     },
     "execution_count": 3,
     "metadata": {},
     "output_type": "execute_result"
    }
   ],
   "source": [
    "#Alice\n",
    "\n",
    "# Create a Quantum Register with n qubits.\n",
    "q = QuantumRegister(n,'q')\n",
    "\n",
    "# Create a Quantum Circuit acting on the q register\n",
    "A_circ = QuantumCircuit(q)\n",
    "\n",
    "for i in range(n):\n",
    "    if alice_1[i]==1:\n",
    "        A_circ.x(q[i])\n",
    "        \n",
    "for j in range(n):\n",
    "    if alice_2[j]==1:\n",
    "        A_circ.h(q[j])\n",
    "\n",
    "A_circ.barrier(q)\n",
    "A_circ.draw()"
   ]
  },
  {
   "cell_type": "code",
   "execution_count": 4,
   "metadata": {},
   "outputs": [
    {
     "name": "stdout",
     "output_type": "stream",
     "text": [
      "measured by Z(0) or X(1) : [0, 0, 1, 1, 0, 0, 0, 0, 1, 1, 0, 1, 0, 0, 0, 0]\n",
      "Bob uses Z basis to measure qubit0\n",
      "Bob uses Z basis to measure qubit1\n",
      "Bob uses X basis to measure qubit2\n",
      "Bob uses X basis to measure qubit3\n",
      "Bob uses Z basis to measure qubit4\n",
      "Bob uses Z basis to measure qubit5\n",
      "Bob uses Z basis to measure qubit6\n",
      "Bob uses Z basis to measure qubit7\n",
      "Bob uses X basis to measure qubit8\n",
      "Bob uses X basis to measure qubit9\n",
      "Bob uses Z basis to measure qubit10\n",
      "Bob uses X basis to measure qubit11\n",
      "Bob uses Z basis to measure qubit12\n",
      "Bob uses Z basis to measure qubit13\n",
      "Bob uses Z basis to measure qubit14\n",
      "Bob uses Z basis to measure qubit15\n"
     ]
    }
   ],
   "source": [
    "#Bob\n",
    "bob_1=[]\n",
    "\n",
    "bob_2=[]\n",
    "random_01str(bob_2)\n",
    "print(\"measured by Z(0) or X(1) : {}\".format(bob_2))\n",
    "\n",
    "for i in range(n):\n",
    "    if not bob_2[i]:\n",
    "        print(\"Bob uses Z basis to measure qubit{}\".format(i))\n",
    "    else:\n",
    "        print(\"Bob uses X basis to measure qubit{}\".format(i))"
   ]
  },
  {
   "cell_type": "code",
   "execution_count": 5,
   "metadata": {},
   "outputs": [
    {
     "data": {
      "text/html": [
       "<pre style=\"word-wrap: normal;white-space: pre;line-height: 15px;\">         ┌───┐┌───┐ ░ ┌─┐                                                  \n",
       " q_0: |0>┤ X ├┤ H ├─░─┤M├──────────────────────────────────────────────────\n",
       "         ├───┤└───┘ ░ └╥┘┌─┐                                               \n",
       " q_1: |0>┤ X ├──────░──╫─┤M├───────────────────────────────────────────────\n",
       "         ├───┤      ░  ║ └╥┘                           ┌───┐┌─┐            \n",
       " q_2: |0>┤ H ├──────░──╫──╫────────────────────────────┤ H ├┤M├────────────\n",
       "         └───┘      ░  ║  ║                            ├───┤└╥┘┌─┐         \n",
       " q_3: |0>───────────░──╫──╫────────────────────────────┤ H ├─╫─┤M├─────────\n",
       "         ┌───┐      ░  ║  ║ ┌─┐                        └───┘ ║ └╥┘         \n",
       " q_4: |0>┤ X ├──────░──╫──╫─┤M├──────────────────────────────╫──╫──────────\n",
       "         └───┘      ░  ║  ║ └╥┘┌─┐                           ║  ║          \n",
       " q_5: |0>───────────░──╫──╫──╫─┤M├───────────────────────────╫──╫──────────\n",
       "         ┌───┐      ░  ║  ║  ║ └╥┘┌─┐                        ║  ║          \n",
       " q_6: |0>┤ H ├──────░──╫──╫──╫──╫─┤M├────────────────────────╫──╫──────────\n",
       "         ├───┤┌───┐ ░  ║  ║  ║  ║ └╥┘┌─┐                     ║  ║          \n",
       " q_7: |0>┤ X ├┤ H ├─░──╫──╫──╫──╫──╫─┤M├─────────────────────╫──╫──────────\n",
       "         └───┘└───┘ ░  ║  ║  ║  ║  ║ └╥┘               ┌───┐ ║  ║ ┌─┐      \n",
       " q_8: |0>───────────░──╫──╫──╫──╫──╫──╫────────────────┤ H ├─╫──╫─┤M├──────\n",
       "         ┌───┐      ░  ║  ║  ║  ║  ║  ║                ├───┤ ║  ║ └╥┘┌─┐   \n",
       " q_9: |0>┤ X ├──────░──╫──╫──╫──╫──╫──╫────────────────┤ H ├─╫──╫──╫─┤M├───\n",
       "         ├───┤      ░  ║  ║  ║  ║  ║  ║ ┌─┐            └───┘ ║  ║  ║ └╥┘   \n",
       "q_10: |0>┤ H ├──────░──╫──╫──╫──╫──╫──╫─┤M├──────────────────╫──╫──╫──╫────\n",
       "         ├───┤┌───┐ ░  ║  ║  ║  ║  ║  ║ └╥┘            ┌───┐ ║  ║  ║  ║ ┌─┐\n",
       "q_11: |0>┤ X ├┤ H ├─░──╫──╫──╫──╫──╫──╫──╫─────────────┤ H ├─╫──╫──╫──╫─┤M├\n",
       "         ├───┤├───┤ ░  ║  ║  ║  ║  ║  ║  ║ ┌─┐         └───┘ ║  ║  ║  ║ └╥┘\n",
       "q_12: |0>┤ X ├┤ H ├─░──╫──╫──╫──╫──╫──╫──╫─┤M├───────────────╫──╫──╫──╫──╫─\n",
       "         ├───┤└───┘ ░  ║  ║  ║  ║  ║  ║  ║ └╥┘┌─┐            ║  ║  ║  ║  ║ \n",
       "q_13: |0>┤ H ├──────░──╫──╫──╫──╫──╫──╫──╫──╫─┤M├────────────╫──╫──╫──╫──╫─\n",
       "         ├───┤      ░  ║  ║  ║  ║  ║  ║  ║  ║ └╥┘┌─┐         ║  ║  ║  ║  ║ \n",
       "q_14: |0>┤ X ├──────░──╫──╫──╫──╫──╫──╫──╫──╫──╫─┤M├─────────╫──╫──╫──╫──╫─\n",
       "         ├───┤┌───┐ ░  ║  ║  ║  ║  ║  ║  ║  ║  ║ └╥┘┌─┐      ║  ║  ║  ║  ║ \n",
       "q_15: |0>┤ X ├┤ H ├─░──╫──╫──╫──╫──╫──╫──╫──╫──╫──╫─┤M├──────╫──╫──╫──╫──╫─\n",
       "         └───┘└───┘ ░  ║  ║  ║  ║  ║  ║  ║  ║  ║  ║ └╥┘      ║  ║  ║  ║  ║ \n",
       "  c_0: 0 ══════════════╩══╬══╬══╬══╬══╬══╬══╬══╬══╬══╬═══════╬══╬══╬══╬══╬═\n",
       "                          ║  ║  ║  ║  ║  ║  ║  ║  ║  ║       ║  ║  ║  ║  ║ \n",
       "  c_1: 0 ═════════════════╩══╬══╬══╬══╬══╬══╬══╬══╬══╬═══════╬══╬══╬══╬══╬═\n",
       "                             ║  ║  ║  ║  ║  ║  ║  ║  ║       ║  ║  ║  ║  ║ \n",
       "  c_2: 0 ════════════════════╬══╬══╬══╬══╬══╬══╬══╬══╬═══════╩══╬══╬══╬══╬═\n",
       "                             ║  ║  ║  ║  ║  ║  ║  ║  ║          ║  ║  ║  ║ \n",
       "  c_3: 0 ════════════════════╬══╬══╬══╬══╬══╬══╬══╬══╬══════════╩══╬══╬══╬═\n",
       "                             ║  ║  ║  ║  ║  ║  ║  ║  ║             ║  ║  ║ \n",
       "  c_4: 0 ════════════════════╩══╬══╬══╬══╬══╬══╬══╬══╬═════════════╬══╬══╬═\n",
       "                                ║  ║  ║  ║  ║  ║  ║  ║             ║  ║  ║ \n",
       "  c_5: 0 ═══════════════════════╩══╬══╬══╬══╬══╬══╬══╬═════════════╬══╬══╬═\n",
       "                                   ║  ║  ║  ║  ║  ║  ║             ║  ║  ║ \n",
       "  c_6: 0 ══════════════════════════╩══╬══╬══╬══╬══╬══╬═════════════╬══╬══╬═\n",
       "                                      ║  ║  ║  ║  ║  ║             ║  ║  ║ \n",
       "  c_7: 0 ═════════════════════════════╩══╬══╬══╬══╬══╬═════════════╬══╬══╬═\n",
       "                                         ║  ║  ║  ║  ║             ║  ║  ║ \n",
       "  c_8: 0 ════════════════════════════════╬══╬══╬══╬══╬═════════════╩══╬══╬═\n",
       "                                         ║  ║  ║  ║  ║                ║  ║ \n",
       "  c_9: 0 ════════════════════════════════╬══╬══╬══╬══╬════════════════╩══╬═\n",
       "                                         ║  ║  ║  ║  ║                   ║ \n",
       " c_10: 0 ════════════════════════════════╩══╬══╬══╬══╬═══════════════════╬═\n",
       "                                            ║  ║  ║  ║                   ║ \n",
       " c_11: 0 ═══════════════════════════════════╬══╬══╬══╬═══════════════════╩═\n",
       "                                            ║  ║  ║  ║                     \n",
       " c_12: 0 ═══════════════════════════════════╩══╬══╬══╬═════════════════════\n",
       "                                               ║  ║  ║                     \n",
       " c_13: 0 ══════════════════════════════════════╩══╬══╬═════════════════════\n",
       "                                                  ║  ║                     \n",
       " c_14: 0 ═════════════════════════════════════════╩══╬═════════════════════\n",
       "                                                     ║                     \n",
       " c_15: 0 ════════════════════════════════════════════╩═════════════════════\n",
       "                                                                           </pre>"
      ],
      "text/plain": [
       "<qiskit.visualization.text.TextDrawing at 0x7f31a1622208>"
      ]
     },
     "execution_count": 5,
     "metadata": {},
     "output_type": "execute_result"
    }
   ],
   "source": [
    "#Bob\n",
    "c = ClassicalRegister(n,'c')\n",
    "B_circ = QuantumCircuit(q,c)\n",
    "\n",
    "for i in range(n):\n",
    "    if bob_2[i]==1:\n",
    "        B_circ.h(q[i])\n",
    "\n",
    "B_circ.measure(q,c)\n",
    "qc = A_circ + B_circ\n",
    "qc.draw()"
   ]
  },
  {
   "cell_type": "code",
   "execution_count": 6,
   "metadata": {},
   "outputs": [
    {
     "name": "stdout",
     "output_type": "stream",
     "text": [
      "[<IBMQBackend('ibmqx2') from IBMQ()>, <IBMQBackend('ibmq_16_melbourne') from IBMQ()>, <IBMQBackend('ibmq_yorktown_testing') from IBMQ()>, <IBMQSimulator('ibmq_qasm_simulator') from IBMQ()>]\n"
     ]
    }
   ],
   "source": [
    "from qiskit import IBMQ\n",
    "api_token = ''\n",
    "IBMQ.enable_account(api_token)\n",
    "backend_list = IBMQ.backends()\n",
    "print(backend_list)\n",
    "backend_sim = IBMQ.get_backend('ibmq_qasm_simulator')"
   ]
  },
  {
   "cell_type": "code",
   "execution_count": 7,
   "metadata": {},
   "outputs": [
    {
     "name": "stdout",
     "output_type": "stream",
     "text": [
      "{'0110111100011010': 1, '0101111100011011': 1, '1100101010011010': 1, '0101110000010010': 1, '0111100100011010': 1}\n"
     ]
    },
    {
     "data": {
      "image/png": "[encoded data removed]",
      "text/plain": [
       "<Figure size 504x360 with 1 Axes>"
      ]
     },
     "execution_count": 7,
     "metadata": {},
     "output_type": "execute_result"
    }
   ],
   "source": [
    "job_sim = qiskit.execute(qc, backend_sim, shots=5)\n",
    "result_sim = job_sim.result()\n",
    "counts = result_sim.get_counts(qc)\n",
    "print(counts)\n",
    "from qiskit.visualization import plot_histogram\n",
    "plot_histogram(counts)"
   ]
  },
  {
   "cell_type": "code",
   "execution_count": 8,
   "metadata": {},
   "outputs": [
    {
     "name": "stdout",
     "output_type": "stream",
     "text": [
      "IBMQ_result = 0110111100011010\n",
      "Bob_result = [0, 1, 0, 1, 1, 0, 0, 0, 1, 1, 1, 1, 0, 1, 1, 0]\n"
     ]
    }
   ],
   "source": [
    "result_str = list(counts)[0]\n",
    "print(\"IBMQ_result = {}\".format(result_str))\n",
    "\n",
    "bob_1.clear()\n",
    "for i in range(n):\n",
    "    bob_1.append(int(result_str[n-1-i]))\n",
    "    \n",
    "print(\"Bob_result = {}\".format(bob_1))"
   ]
  },
  {
   "cell_type": "code",
   "execution_count": 9,
   "metadata": {},
   "outputs": [
    {
     "name": "stdout",
     "output_type": "stream",
     "text": [
      "the same basis : [1, 2, 4, 5, 11, 14]\n",
      "key1 = [1, 0, 1, 0, 1, 1]\n"
     ]
    }
   ],
   "source": [
    "key1=[]\n",
    "pos=[]\n",
    "for i in range(n):\n",
    "    if alice_2[i]==bob_2[i]:\n",
    "        key1.append(bob_1[i])\n",
    "        pos.append(i)\n",
    "\n",
    "print(\"the same basis : {}\".format(pos))\n",
    "print(\"key1 = {}\".format(key1))\n",
    "\n",
    "key2=key1"
   ]
  },
  {
   "cell_type": "code",
   "execution_count": 10,
   "metadata": {},
   "outputs": [
    {
     "name": "stdout",
     "output_type": "stream",
     "text": [
      "key1 = [1, 0, 1, 0, 1, 1]\n",
      "the same basis : [1, 2, 4, 5, 11, 14]\n",
      "check pos = 1,  Alice 1 = Bob 1\n",
      "check pos = 2,  Alice 0 = Bob 0\n",
      "check pos = 14,  Alice 1 = Bob 1\n",
      "key2 = [1, 0, 1]\n",
      "accuracy = 100.0%\n"
     ]
    }
   ],
   "source": [
    "#Check\n",
    "print(\"key1 = {}\".format(key2))\n",
    "print(\"the same basis : {}\".format(pos))\n",
    "num=len(key2)\n",
    "total_times=len(key2)//2\n",
    "right_times = 0\n",
    "\n",
    "for i in range(total_times):\n",
    "    rand=random.randint(0,num-1)\n",
    "    if alice_1[pos[rand]]==bob_1[pos[rand]]:\n",
    "        right_times+=1\n",
    "        print(\"check pos = {}, \".format(pos[rand]),end=' ')\n",
    "        print(\"Alice {} = Bob {}\".format(alice_1[pos[rand]],bob_1[pos[rand]]))\n",
    "    else :\n",
    "        print(\"check pos = {}\".format(pos[rand]),end=' ')\n",
    "        print(\"Alice {} != Bob {}\".format(alice_1[pos[rand]],bob_1[pos[rand]]))\n",
    "        print(\"different qubit has been found\")\n",
    "    #print(\"rand = {}\".format(rand),end=' ')\n",
    "    #print(\"check pos = {}\".format(pos[rand]))\n",
    "    del key2[rand]\n",
    "    del pos[rand]\n",
    "    num-=1\n",
    "    \n",
    "print(\"key2 = {}\".format(key2))\n",
    "acc=(right_times/total_times)\n",
    "print(\"accuracy = {}%\".format(acc*100))   "
   ]
  },
  {
   "cell_type": "code",
   "execution_count": 11,
   "metadata": {},
   "outputs": [
    {
     "name": "stdout",
     "output_type": "stream",
     "text": [
      "measured by Z(0) or X(1) : [1, 0, 1, 1, 1, 0, 1, 1, 1, 1, 1, 1, 1, 1, 1, 1]\n",
      "Eve uses X basis to measure qubit0\n",
      "Eve uses Z basis to measure qubit1\n",
      "Eve uses X basis to measure qubit2\n",
      "Eve uses X basis to measure qubit3\n",
      "Eve uses X basis to measure qubit4\n",
      "Eve uses Z basis to measure qubit5\n",
      "Eve uses X basis to measure qubit6\n",
      "Eve uses X basis to measure qubit7\n",
      "Eve uses X basis to measure qubit8\n",
      "Eve uses X basis to measure qubit9\n",
      "Eve uses X basis to measure qubit10\n",
      "Eve uses X basis to measure qubit11\n",
      "Eve uses X basis to measure qubit12\n",
      "Eve uses X basis to measure qubit13\n",
      "Eve uses X basis to measure qubit14\n",
      "Eve uses X basis to measure qubit15\n"
     ]
    }
   ],
   "source": [
    "#Eve\n",
    "\n",
    "eve_2=[]\n",
    "random_01str(eve_2)\n",
    "print(\"measured by Z(0) or X(1) : {}\".format(eve_2))\n",
    "\n",
    "for i in range(n):\n",
    "    if not eve_2[i]:\n",
    "        print(\"Eve uses Z basis to measure qubit{}\".format(i))\n",
    "    else:\n",
    "        print(\"Eve uses X basis to measure qubit{}\".format(i))"
   ]
  },
  {
   "cell_type": "code",
   "execution_count": 12,
   "metadata": {},
   "outputs": [
    {
     "name": "stdout",
     "output_type": "stream",
     "text": [
      "Alice create |-> photon, Eve uses X basis to measure, |-> is still |->.\n",
      "\n",
      "Alice create |1> photon, Eve uses Z basis to measure, |1> is still |1>.\n",
      "\n",
      "Alice create |+> photon, Eve uses X basis to measure, |+> is still |+>.\n",
      "\n",
      "Alice create |0> photon, Eve uses X basis to measure, |0> is changed to |+>  |->.\n",
      "\n",
      "Alice create |1> photon, Eve uses X basis to measure, |1> is changed to |+>  |->.\n",
      "\n",
      "Alice create |0> photon, Eve uses Z basis to measure, |0> is still |0>.\n",
      "\n",
      "Alice create |+> photon, Eve uses X basis to measure, |+> is still |+>.\n",
      "\n",
      "Alice create |-> photon, Eve uses X basis to measure, |-> is still |->.\n",
      "\n",
      "Alice create |0> photon, Eve uses X basis to measure, |0> is changed to |+>  |->.\n",
      "\n",
      "Alice create |1> photon, Eve uses X basis to measure, |1> is changed to |+>  |->.\n",
      "\n",
      "Alice create |+> photon, Eve uses X basis to measure, |+> is still |+>.\n",
      "\n",
      "Alice create |-> photon, Eve uses X basis to measure, |-> is still |->.\n",
      "\n",
      "Alice create |-> photon, Eve uses X basis to measure, |-> is still |->.\n",
      "\n",
      "Alice create |+> photon, Eve uses X basis to measure, |+> is still |+>.\n",
      "\n",
      "Alice create |1> photon, Eve uses X basis to measure, |1> is changed to |+>  |->.\n",
      "\n",
      "Alice create |-> photon, Eve uses X basis to measure, |-> is still |->.\n",
      "\n"
     ]
    }
   ],
   "source": [
    "#Eve\n",
    "for j in range(n):\n",
    "    if not alice_1[j] and (not alice_2[j]):\n",
    "        print(\"Alice create |0> photon, \",end='')\n",
    "        if not eve_2[j]:\n",
    "            print(\"Eve uses Z basis to measure, |0> is still |0>.\")\n",
    "            print()\n",
    "        elif eve_2[j]:\n",
    "            print(\"Eve uses X basis to measure, |0> is changed to |+>  |->.\")\n",
    "            print()\n",
    "    elif alice_1[j] and (not alice_2[j]):\n",
    "        print(\"Alice create |1> photon, \",end='')\n",
    "        if not eve_2[j]:\n",
    "            print(\"Eve uses Z basis to measure, |1> is still |1>.\")\n",
    "            print()\n",
    "        elif eve_2[j]:\n",
    "            print(\"Eve uses X basis to measure, |1> is changed to |+>  |->.\")\n",
    "            print()\n",
    "    elif not alice_1[j] and alice_2[j]:\n",
    "        print(\"Alice create |+> photon, \",end='')\n",
    "        if not eve_2[j]:\n",
    "            print(\"Eve uses Z basis to measure, |+> is changed to |0>  |1>.\")\n",
    "            print()\n",
    "        elif eve_2[j]:\n",
    "            print(\"Eve uses X basis to measure, |+> is still |+>.\")\n",
    "            print()\n",
    "    elif alice_1[j] and alice_2[j]:\n",
    "        print(\"Alice create |-> photon, \",end='')\n",
    "        if not eve_2[j]:\n",
    "            print(\"Eve uses Z basis to measure, |-> is changed to |0>  |1>.\")\n",
    "            print()\n",
    "        elif eve_2[j]:\n",
    "            print(\"Eve uses X basis to measure, |-> is still |->.\")\n",
    "            print()"
   ]
  },
  {
   "cell_type": "code",
   "execution_count": 13,
   "metadata": {},
   "outputs": [
    {
     "data": {
      "text/html": [
       "<pre style=\"word-wrap: normal;white-space: pre;line-height: 15px;\">          ┌───┐┌───┐ ░ \n",
       " q2_0: |0>┤ X ├┤ H ├─░─\n",
       "          ├───┤└───┘ ░ \n",
       " q2_1: |0>┤ X ├──────░─\n",
       "          ├───┤      ░ \n",
       " q2_2: |0>┤ H ├──────░─\n",
       "          ├───┤      ░ \n",
       " q2_3: |0>┤ H ├──────░─\n",
       "          ├───┤      ░ \n",
       " q2_4: |0>┤ H ├──────░─\n",
       "          └───┘      ░ \n",
       " q2_5: |0>───────────░─\n",
       "          ┌───┐      ░ \n",
       " q2_6: |0>┤ H ├──────░─\n",
       "          ├───┤┌───┐ ░ \n",
       " q2_7: |0>┤ X ├┤ H ├─░─\n",
       "          ├───┤├───┤ ░ \n",
       " q2_8: |0>┤ X ├┤ H ├─░─\n",
       "          ├───┤└───┘ ░ \n",
       " q2_9: |0>┤ H ├──────░─\n",
       "          ├───┤      ░ \n",
       "q2_10: |0>┤ H ├──────░─\n",
       "          ├───┤┌───┐ ░ \n",
       "q2_11: |0>┤ X ├┤ H ├─░─\n",
       "          ├───┤├───┤ ░ \n",
       "q2_12: |0>┤ X ├┤ H ├─░─\n",
       "          ├───┤└───┘ ░ \n",
       "q2_13: |0>┤ H ├──────░─\n",
       "          ├───┤┌───┐ ░ \n",
       "q2_14: |0>┤ X ├┤ H ├─░─\n",
       "          ├───┤├───┤ ░ \n",
       "q2_15: |0>┤ X ├┤ H ├─░─\n",
       "          └───┘└───┘ ░ </pre>"
      ],
      "text/plain": [
       "<qiskit.visualization.text.TextDrawing at 0x7f31a0462b70>"
      ]
     },
     "execution_count": 13,
     "metadata": {},
     "output_type": "execute_result"
    }
   ],
   "source": [
    "#Eve\n",
    "q2 = QuantumRegister(n,'q2')\n",
    "E_circ = QuantumCircuit(q2)\n",
    "\n",
    "for i in range(n):\n",
    "    if alice_2[i]==eve_2[i]:\n",
    "        if alice_1[i]==1:\n",
    "            E_circ.x(q2[i])\n",
    "        if alice_2[i]==1:\n",
    "            E_circ.h(q2[i])\n",
    "    else :\n",
    "        if alice_2[i]==0 and eve_2[i]==1:\n",
    "            rand2 = random.randint(0,1)\n",
    "            if not rand2:\n",
    "                E_circ.h(q2[i])\n",
    "            else :\n",
    "                E_circ.x(q2[i])\n",
    "                E_circ.h(q2[i])\n",
    "        elif alice_2[i]==1 and eve_2[i]==0:\n",
    "            rand2 = random.randint(0,1)\n",
    "            if rand2:\n",
    "                E_circ.x(q2[i])\n",
    "\n",
    "                \n",
    "E_circ.barrier(q2)\n",
    "E_circ.draw()"
   ]
  },
  {
   "cell_type": "code",
   "execution_count": 14,
   "metadata": {},
   "outputs": [
    {
     "data": {
      "text/html": [
       "<pre style=\"word-wrap: normal;white-space: pre;line-height: 15px;\">          ┌───┐┌───┐ ░ ┌─┐                                                  \n",
       " q2_0: |0>┤ X ├┤ H ├─░─┤M├──────────────────────────────────────────────────\n",
       "          ├───┤└───┘ ░ └╥┘┌─┐                                               \n",
       " q2_1: |0>┤ X ├──────░──╫─┤M├───────────────────────────────────────────────\n",
       "          ├───┤      ░  ║ └╥┘                           ┌───┐┌─┐            \n",
       " q2_2: |0>┤ H ├──────░──╫──╫────────────────────────────┤ H ├┤M├────────────\n",
       "          ├───┤      ░  ║  ║                            ├───┤└╥┘┌─┐         \n",
       " q2_3: |0>┤ H ├──────░──╫──╫────────────────────────────┤ H ├─╫─┤M├─────────\n",
       "          ├───┤      ░  ║  ║ ┌─┐                        └───┘ ║ └╥┘         \n",
       " q2_4: |0>┤ H ├──────░──╫──╫─┤M├──────────────────────────────╫──╫──────────\n",
       "          └───┘      ░  ║  ║ └╥┘┌─┐                           ║  ║          \n",
       " q2_5: |0>───────────░──╫──╫──╫─┤M├───────────────────────────╫──╫──────────\n",
       "          ┌───┐      ░  ║  ║  ║ └╥┘┌─┐                        ║  ║          \n",
       " q2_6: |0>┤ H ├──────░──╫──╫──╫──╫─┤M├────────────────────────╫──╫──────────\n",
       "          ├───┤┌───┐ ░  ║  ║  ║  ║ └╥┘┌─┐                     ║  ║          \n",
       " q2_7: |0>┤ X ├┤ H ├─░──╫──╫──╫──╫──╫─┤M├─────────────────────╫──╫──────────\n",
       "          ├───┤├───┤ ░  ║  ║  ║  ║  ║ └╥┘               ┌───┐ ║  ║ ┌─┐      \n",
       " q2_8: |0>┤ X ├┤ H ├─░──╫──╫──╫──╫──╫──╫────────────────┤ H ├─╫──╫─┤M├──────\n",
       "          ├───┤└───┘ ░  ║  ║  ║  ║  ║  ║                ├───┤ ║  ║ └╥┘┌─┐   \n",
       " q2_9: |0>┤ H ├──────░──╫──╫──╫──╫──╫──╫────────────────┤ H ├─╫──╫──╫─┤M├───\n",
       "          ├───┤      ░  ║  ║  ║  ║  ║  ║ ┌─┐            └───┘ ║  ║  ║ └╥┘   \n",
       "q2_10: |0>┤ H ├──────░──╫──╫──╫──╫──╫──╫─┤M├──────────────────╫──╫──╫──╫────\n",
       "          ├───┤┌───┐ ░  ║  ║  ║  ║  ║  ║ └╥┘            ┌───┐ ║  ║  ║  ║ ┌─┐\n",
       "q2_11: |0>┤ X ├┤ H ├─░──╫──╫──╫──╫──╫──╫──╫─────────────┤ H ├─╫──╫──╫──╫─┤M├\n",
       "          ├───┤├───┤ ░  ║  ║  ║  ║  ║  ║  ║ ┌─┐         └───┘ ║  ║  ║  ║ └╥┘\n",
       "q2_12: |0>┤ X ├┤ H ├─░──╫──╫──╫──╫──╫──╫──╫─┤M├───────────────╫──╫──╫──╫──╫─\n",
       "          ├───┤└───┘ ░  ║  ║  ║  ║  ║  ║  ║ └╥┘┌─┐            ║  ║  ║  ║  ║ \n",
       "q2_13: |0>┤ H ├──────░──╫──╫──╫──╫──╫──╫──╫──╫─┤M├────────────╫──╫──╫──╫──╫─\n",
       "          ├───┤┌───┐ ░  ║  ║  ║  ║  ║  ║  ║  ║ └╥┘┌─┐         ║  ║  ║  ║  ║ \n",
       "q2_14: |0>┤ X ├┤ H ├─░──╫──╫──╫──╫──╫──╫──╫──╫──╫─┤M├─────────╫──╫──╫──╫──╫─\n",
       "          ├───┤├───┤ ░  ║  ║  ║  ║  ║  ║  ║  ║  ║ └╥┘┌─┐      ║  ║  ║  ║  ║ \n",
       "q2_15: |0>┤ X ├┤ H ├─░──╫──╫──╫──╫──╫──╫──╫──╫──╫──╫─┤M├──────╫──╫──╫──╫──╫─\n",
       "          └───┘└───┘ ░  ║  ║  ║  ║  ║  ║  ║  ║  ║  ║ └╥┘      ║  ║  ║  ║  ║ \n",
       "  c2_0: 0 ══════════════╩══╬══╬══╬══╬══╬══╬══╬══╬══╬══╬═══════╬══╬══╬══╬══╬═\n",
       "                           ║  ║  ║  ║  ║  ║  ║  ║  ║  ║       ║  ║  ║  ║  ║ \n",
       "  c2_1: 0 ═════════════════╩══╬══╬══╬══╬══╬══╬══╬══╬══╬═══════╬══╬══╬══╬══╬═\n",
       "                              ║  ║  ║  ║  ║  ║  ║  ║  ║       ║  ║  ║  ║  ║ \n",
       "  c2_2: 0 ════════════════════╬══╬══╬══╬══╬══╬══╬══╬══╬═══════╩══╬══╬══╬══╬═\n",
       "                              ║  ║  ║  ║  ║  ║  ║  ║  ║          ║  ║  ║  ║ \n",
       "  c2_3: 0 ════════════════════╬══╬══╬══╬══╬══╬══╬══╬══╬══════════╩══╬══╬══╬═\n",
       "                              ║  ║  ║  ║  ║  ║  ║  ║  ║             ║  ║  ║ \n",
       "  c2_4: 0 ════════════════════╩══╬══╬══╬══╬══╬══╬══╬══╬═════════════╬══╬══╬═\n",
       "                                 ║  ║  ║  ║  ║  ║  ║  ║             ║  ║  ║ \n",
       "  c2_5: 0 ═══════════════════════╩══╬══╬══╬══╬══╬══╬══╬═════════════╬══╬══╬═\n",
       "                                    ║  ║  ║  ║  ║  ║  ║             ║  ║  ║ \n",
       "  c2_6: 0 ══════════════════════════╩══╬══╬══╬══╬══╬══╬═════════════╬══╬══╬═\n",
       "                                       ║  ║  ║  ║  ║  ║             ║  ║  ║ \n",
       "  c2_7: 0 ═════════════════════════════╩══╬══╬══╬══╬══╬═════════════╬══╬══╬═\n",
       "                                          ║  ║  ║  ║  ║             ║  ║  ║ \n",
       "  c2_8: 0 ════════════════════════════════╬══╬══╬══╬══╬═════════════╩══╬══╬═\n",
       "                                          ║  ║  ║  ║  ║                ║  ║ \n",
       "  c2_9: 0 ════════════════════════════════╬══╬══╬══╬══╬════════════════╩══╬═\n",
       "                                          ║  ║  ║  ║  ║                   ║ \n",
       " c2_10: 0 ════════════════════════════════╩══╬══╬══╬══╬═══════════════════╬═\n",
       "                                             ║  ║  ║  ║                   ║ \n",
       " c2_11: 0 ═══════════════════════════════════╬══╬══╬══╬═══════════════════╩═\n",
       "                                             ║  ║  ║  ║                     \n",
       " c2_12: 0 ═══════════════════════════════════╩══╬══╬══╬═════════════════════\n",
       "                                                ║  ║  ║                     \n",
       " c2_13: 0 ══════════════════════════════════════╩══╬══╬═════════════════════\n",
       "                                                   ║  ║                     \n",
       " c2_14: 0 ═════════════════════════════════════════╩══╬═════════════════════\n",
       "                                                      ║                     \n",
       " c2_15: 0 ════════════════════════════════════════════╩═════════════════════\n",
       "                                                                            </pre>"
      ],
      "text/plain": [
       "<qiskit.visualization.text.TextDrawing at 0x7f31a0426400>"
      ]
     },
     "execution_count": 14,
     "metadata": {},
     "output_type": "execute_result"
    }
   ],
   "source": [
    "#After Eve, sended to Bob\n",
    "\n",
    "c2 = ClassicalRegister(n,'c2')\n",
    "B_circ2 = QuantumCircuit(q2,c2)\n",
    "\n",
    "for i in range(n):\n",
    "    if bob_2[i]==1:\n",
    "        B_circ2.h(q2[i])\n",
    "\n",
    "B_circ2.measure(q2,c2)\n",
    "qc2 = E_circ + B_circ2\n",
    "qc2.draw()"
   ]
  },
  {
   "cell_type": "code",
   "execution_count": 15,
   "metadata": {},
   "outputs": [
    {
     "name": "stdout",
     "output_type": "stream",
     "text": [
      "{'1001100111010011': 1, '1111110111000010': 1, '0000110111000011': 1, '0111110110010011': 1, '1111100111000011': 1}\n"
     ]
    },
    {
     "data": {
      "image/png": "[encoded data removed]",
      "text/plain": [
       "<Figure size 504x360 with 1 Axes>"
      ]
     },
     "execution_count": 15,
     "metadata": {},
     "output_type": "execute_result"
    }
   ],
   "source": [
    "job_sim2 = qiskit.execute(qc2, backend_sim, shots=5)\n",
    "result_sim2 = job_sim2.result()\n",
    "counts2 = result_sim2.get_counts(qc2)\n",
    "print(counts2)\n",
    "from qiskit.visualization import plot_histogram\n",
    "plot_histogram(counts2)"
   ]
  },
  {
   "cell_type": "code",
   "execution_count": 16,
   "metadata": {},
   "outputs": [
    {
     "name": "stdout",
     "output_type": "stream",
     "text": [
      "IBMQ_result2 = 1001100111010011\n",
      "Bob_result2 = [1, 1, 0, 0, 1, 0, 1, 1, 1, 0, 0, 1, 1, 0, 0, 1]\n"
     ]
    }
   ],
   "source": [
    "result_str2 = list(counts2)[0]\n",
    "print(\"IBMQ_result2 = {}\".format(result_str2))\n",
    "\n",
    "bob_1.clear()\n",
    "for i in range(n):\n",
    "    bob_1.append(int(result_str2[n-1-i]))\n",
    "    \n",
    "print(\"Bob_result2 = {}\".format(bob_1))"
   ]
  },
  {
   "cell_type": "code",
   "execution_count": 19,
   "metadata": {},
   "outputs": [
    {
     "name": "stdout",
     "output_type": "stream",
     "text": [
      "the same basis : [1, 2, 4, 5, 11, 14]\n",
      "key1_2 = [1, 0, 1, 0, 1, 0]\n"
     ]
    }
   ],
   "source": [
    "key1_2=[]\n",
    "pos2=[]\n",
    "for i in range(n):\n",
    "    if alice_2[i]==bob_2[i]:\n",
    "        key1_2.append(bob_1[i])\n",
    "        pos2.append(i)\n",
    "\n",
    "print(\"the same basis : {}\".format(pos2))\n",
    "print(\"key1_2 = {}\".format(key1_2))\n",
    "\n",
    "key2_2=[]\n",
    "key2_2.clear()\n",
    "key2_2.extend(key1_2)"
   ]
  },
  {
   "cell_type": "code",
   "execution_count": 20,
   "metadata": {},
   "outputs": [
    {
     "name": "stdout",
     "output_type": "stream",
     "text": [
      "key1_2 = [1, 0, 1, 0, 1, 0]\n",
      "the same basis : [1, 2, 4, 5, 11, 14]\n",
      "check pos = 4,  Alice 1 = Bob 1\n",
      "check pos = 2,  Alice 0 = Bob 0\n",
      "check pos = 11,  Alice 1 = Bob 1\n",
      "key2_2 = [1, 0, 0]\n",
      "accuracy_2 = 100.0%\n"
     ]
    }
   ],
   "source": [
    "#Check\n",
    "print(\"key1_2 = {}\".format(key2_2))\n",
    "print(\"the same basis : {}\".format(pos2))\n",
    "num2=len(key2_2)\n",
    "total_times2=len(key2_2)//2\n",
    "right_times2 = 0\n",
    "\n",
    "for i in range(total_times2):\n",
    "    rand=random.randint(0,num2-1)\n",
    "    if alice_1[pos2[rand]]==bob_1[pos2[rand]]:\n",
    "        right_times2+=1\n",
    "        print(\"check pos = {}, \".format(pos2[rand]),end=' ')\n",
    "        print(\"Alice {} = Bob {}\".format(alice_1[pos2[rand]],bob_1[pos2[rand]]))\n",
    "    else :\n",
    "        print(\"check pos = {}\".format(pos2[rand]),end=' ')\n",
    "        print(\"Alice {} != Bob {}\".format(alice_1[pos2[rand]],bob_1[pos2[rand]]))\n",
    "        print(\"different qubit has been found\")\n",
    "    #print(\"rand = {}\".format(rand),end=' ')\n",
    "    #print(\"check pos2 = {}\".format(pos2[rand]))\n",
    "    del key2_2[rand]\n",
    "    del pos2[rand]\n",
    "    num2-=1\n",
    "    \n",
    "print(\"key2_2 = {}\".format(key2_2))\n",
    "acc2=(right_times2/total_times2)\n",
    "print(\"accuracy_2 = {}%\".format(acc2*100))   "
   ]
  },
  {
   "cell_type": "code",
   "execution_count": 21,
   "metadata": {},
   "outputs": [
    {
     "name": "stdout",
     "output_type": "stream",
     "text": [
      "the same basis : [1, 2, 4, 5, 11, 14]\n",
      "key2_3 = [1, 0, 1, 0, 1, 0]\n",
      "[1, 0, 1, 0, 1, 0]\n",
      "[1, 2, 4, 5, 11, 14]\n",
      "check pos = 11 , Alice 1 = Bob 1\n",
      "check pos = 2 , Alice 0 = Bob 0\n",
      "check pos = 4 , Alice 1 = Bob 1\n",
      "check pos = 5 , Alice 0 = Bob 0\n",
      "check pos = 14 , Alice 1 != Bob 0\n",
      "different qubit has been found\n",
      "check pos = 1 , Alice 1 = Bob 1\n",
      "accuracy_3 = 83.33333333333334%\n"
     ]
    }
   ],
   "source": [
    "#Check all\n",
    "\n",
    "key2_3=[]\n",
    "pos3=[]\n",
    "for i in range(n):\n",
    "    if alice_2[i]==bob_2[i]:\n",
    "        key2_3.append(bob_1[i])\n",
    "        pos3.append(i)\n",
    "\n",
    "print(\"the same basis : {}\".format(pos3))\n",
    "print(\"key2_3 = {}\".format(key2_3))\n",
    "\n",
    "\n",
    "print(key2_3)\n",
    "print(pos3)\n",
    "num3=len(key2_3)\n",
    "total_times3=len(key2_3)\n",
    "right_times3 = 0\n",
    "\n",
    "for i in range(total_times3):\n",
    "    rand=random.randint(0,num3-1)\n",
    "    if alice_1[pos3[rand]]==bob_1[pos3[rand]]:\n",
    "        right_times3+=1\n",
    "        print(\"check pos = {} \".format(pos3[rand]),end=', ')\n",
    "        print(\"Alice {} = Bob {}\".format(alice_1[pos3[rand]],bob_1[pos3[rand]]))\n",
    "    else :\n",
    "        print(\"check pos = {} \".format(pos3[rand]),end=', ')\n",
    "        print(\"Alice {} != Bob {}\".format(alice_1[pos3[rand]],bob_1[pos3[rand]]))\n",
    "        print(\"different qubit has been found\")\n",
    "    #print(\"rand = {}\".format(rand),end=' ')\n",
    "    #print(\"check pos2 = {}\".format(pos2[rand]))\n",
    "    del key2_3[rand]\n",
    "    del pos3[rand]\n",
    "    num3-=1\n",
    "    \n",
    "#print(\"key2_3 = {}\".format(key2_3))\n",
    "acc3=(right_times3/total_times3)\n",
    "print(\"accuracy_3 = {}%\".format(acc3*100))   "
   ]
  },
  {
   "cell_type": "code",
   "execution_count": null,
   "metadata": {},
   "outputs": [],
   "source": []
  }
 ],
 "metadata": {
  "kernelspec": {
   "display_name": "Python 3",
   "language": "python",
   "name": "python3"
  },
  "language_info": {
   "codemirror_mode": {
    "name": "ipython",
    "version": 3
   },
   "file_extension": ".py",
   "mimetype": "text/x-python",
   "name": "python",
   "nbconvert_exporter": "python",
   "pygments_lexer": "ipython3",
   "version": "3.7.2"
  }
 },
 "nbformat": 4,
 "nbformat_minor": 2
}
