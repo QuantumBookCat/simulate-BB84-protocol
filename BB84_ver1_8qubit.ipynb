{
 "cells": [
  {
   "cell_type": "code",
   "execution_count": 27,
   "metadata": {},
   "outputs": [],
   "source": [
    "from qiskit import QuantumCircuit, ClassicalRegister, QuantumRegister\n",
    "import numpy as np\n",
    "import qiskit\n",
    "%matplotlib inline"
   ]
  },
  {
   "cell_type": "code",
   "execution_count": 28,
   "metadata": {},
   "outputs": [
    {
     "name": "stdout",
     "output_type": "stream",
     "text": [
      "[0, 0, 1, 0, 1, 1, 1, 1]\n",
      "[0, 0, 1, 0, 1, 0, 0, 1]\n"
     ]
    }
   ],
   "source": [
    "n=8\n",
    "\n",
    "import random\n",
    "def random_01str(list):\n",
    "    for i in range(n):\n",
    "        list.append(random.randint(0,1))\n",
    "\n",
    "#Alice\n",
    "alice_1=[]\n",
    "random_01str(alice_1)\n",
    "print(alice_1)\n",
    "\n",
    "alice_2=[]\n",
    "random_01str(alice_2)\n",
    "print(alice_2)"
   ]
  },
  {
   "cell_type": "code",
   "execution_count": 29,
   "metadata": {},
   "outputs": [
    {
     "data": {
      "text/html": [
       "<pre style=\"word-wrap: normal;white-space: pre;line-height: 15px;\">                   ░ \n",
       "q_0: |0>───────────░─\n",
       "                   ░ \n",
       "q_1: |0>───────────░─\n",
       "        ┌───┐┌───┐ ░ \n",
       "q_2: |0>┤ X ├┤ H ├─░─\n",
       "        └───┘└───┘ ░ \n",
       "q_3: |0>───────────░─\n",
       "        ┌───┐┌───┐ ░ \n",
       "q_4: |0>┤ X ├┤ H ├─░─\n",
       "        ├───┤└───┘ ░ \n",
       "q_5: |0>┤ X ├──────░─\n",
       "        ├───┤      ░ \n",
       "q_6: |0>┤ X ├──────░─\n",
       "        ├───┤┌───┐ ░ \n",
       "q_7: |0>┤ X ├┤ H ├─░─\n",
       "        └───┘└───┘ ░ </pre>"
      ],
      "text/plain": [
       "<qiskit.visualization.text.TextDrawing at 0x7f6634267e80>"
      ]
     },
     "execution_count": 29,
     "metadata": {},
     "output_type": "execute_result"
    }
   ],
   "source": [
    "#Alice\n",
    "\n",
    "# Create a Quantum Register with n qubits.\n",
    "q = QuantumRegister(n,'q')\n",
    "\n",
    "# Create a Quantum Circuit acting on the q register\n",
    "A_circ = QuantumCircuit(q)\n",
    "\n",
    "for i in range(n):\n",
    "    if alice_1[i]==1:\n",
    "        A_circ.x(q[i])\n",
    "        \n",
    "for j in range(n):\n",
    "    if alice_2[j]==1:\n",
    "        A_circ.h(q[j])\n",
    "\n",
    "A_circ.barrier(q)\n",
    "A_circ.draw()"
   ]
  },
  {
   "cell_type": "code",
   "execution_count": 30,
   "metadata": {},
   "outputs": [
    {
     "name": "stdout",
     "output_type": "stream",
     "text": [
      "[0, 1, 1, 0, 0, 1, 0, 1]\n"
     ]
    }
   ],
   "source": [
    "#Bob\n",
    "bob_1=[]\n",
    "\n",
    "bob_2=[]\n",
    "random_01str(bob_2)\n",
    "print(bob_2)"
   ]
  },
  {
   "cell_type": "code",
   "execution_count": 31,
   "metadata": {},
   "outputs": [
    {
     "data": {
      "text/html": [
       "<pre style=\"word-wrap: normal;white-space: pre;line-height: 15px;\">                   ░ ┌─┐                          \n",
       "q_0: |0>───────────░─┤M├──────────────────────────\n",
       "                   ░ └╥┘         ┌───┐┌─┐         \n",
       "q_1: |0>───────────░──╫──────────┤ H ├┤M├─────────\n",
       "        ┌───┐┌───┐ ░  ║          ├───┤└╥┘┌─┐      \n",
       "q_2: |0>┤ X ├┤ H ├─░──╫──────────┤ H ├─╫─┤M├──────\n",
       "        └───┘└───┘ ░  ║ ┌─┐      └───┘ ║ └╥┘      \n",
       "q_3: |0>───────────░──╫─┤M├────────────╫──╫───────\n",
       "        ┌───┐┌───┐ ░  ║ └╥┘┌─┐         ║  ║       \n",
       "q_4: |0>┤ X ├┤ H ├─░──╫──╫─┤M├─────────╫──╫───────\n",
       "        ├───┤└───┘ ░  ║  ║ └╥┘   ┌───┐ ║  ║ ┌─┐   \n",
       "q_5: |0>┤ X ├──────░──╫──╫──╫────┤ H ├─╫──╫─┤M├───\n",
       "        ├───┤      ░  ║  ║  ║ ┌─┐└───┘ ║  ║ └╥┘   \n",
       "q_6: |0>┤ X ├──────░──╫──╫──╫─┤M├──────╫──╫──╫────\n",
       "        ├───┤┌───┐ ░  ║  ║  ║ └╥┘┌───┐ ║  ║  ║ ┌─┐\n",
       "q_7: |0>┤ X ├┤ H ├─░──╫──╫──╫──╫─┤ H ├─╫──╫──╫─┤M├\n",
       "        └───┘└───┘ ░  ║  ║  ║  ║ └───┘ ║  ║  ║ └╥┘\n",
       " c_0: 0 ══════════════╩══╬══╬══╬═══════╬══╬══╬══╬═\n",
       "                         ║  ║  ║       ║  ║  ║  ║ \n",
       " c_1: 0 ═════════════════╬══╬══╬═══════╩══╬══╬══╬═\n",
       "                         ║  ║  ║          ║  ║  ║ \n",
       " c_2: 0 ═════════════════╬══╬══╬══════════╩══╬══╬═\n",
       "                         ║  ║  ║             ║  ║ \n",
       " c_3: 0 ═════════════════╩══╬══╬═════════════╬══╬═\n",
       "                            ║  ║             ║  ║ \n",
       " c_4: 0 ════════════════════╩══╬═════════════╬══╬═\n",
       "                               ║             ║  ║ \n",
       " c_5: 0 ═══════════════════════╬═════════════╩══╬═\n",
       "                               ║                ║ \n",
       " c_6: 0 ═══════════════════════╩════════════════╬═\n",
       "                                                ║ \n",
       " c_7: 0 ════════════════════════════════════════╩═\n",
       "                                                  </pre>"
      ],
      "text/plain": [
       "<qiskit.visualization.text.TextDrawing at 0x7f6661778b00>"
      ]
     },
     "execution_count": 31,
     "metadata": {},
     "output_type": "execute_result"
    }
   ],
   "source": [
    "#Bob\n",
    "c = ClassicalRegister(n,'c')\n",
    "B_circ = QuantumCircuit(q,c)\n",
    "\n",
    "for i in range(n):\n",
    "    if bob_2[i]==1:\n",
    "        B_circ.h(q[i])\n",
    "\n",
    "B_circ.measure(q,c)\n",
    "qc = A_circ + B_circ\n",
    "qc.draw()"
   ]
  },
  {
   "cell_type": "code",
   "execution_count": 32,
   "metadata": {},
   "outputs": [
    {
     "name": "stderr",
     "output_type": "stream",
     "text": [
      "/home/pd2vm/anaconda3/envs/QIS/lib/python3.7/site-packages/qiskit/providers/ibmq/ibmqprovider.py:272: UserWarning: Credentials are already in use.\n",
      "  warnings.warn('Credentials are already in use.')\n"
     ]
    },
    {
     "name": "stdout",
     "output_type": "stream",
     "text": [
      "[<IBMQBackend('ibmqx4') from IBMQ()>, <IBMQBackend('ibmqx2') from IBMQ()>, <IBMQBackend('ibmq_16_melbourne') from IBMQ()>, <IBMQSimulator('ibmq_qasm_simulator') from IBMQ()>]\n"
     ]
    }
   ],
   "source": [
    "from qiskit import IBMQ\n",
    "api_token = ''\n",
    "IBMQ.enable_account(api_token)\n",
    "backend_list = IBMQ.backends()\n",
    "print(backend_list)\n",
    "backend_sim = IBMQ.get_backend('ibmq_qasm_simulator')"
   ]
  },
  {
   "cell_type": "code",
   "execution_count": 33,
   "metadata": {},
   "outputs": [
    {
     "name": "stdout",
     "output_type": "stream",
     "text": [
      "{'11100100': 1}\n"
     ]
    },
    {
     "data": {
      "image/png": "[encoded data removed]",
      "text/plain": [
       "<Figure size 504x360 with 1 Axes>"
      ]
     },
     "execution_count": 33,
     "metadata": {},
     "output_type": "execute_result"
    }
   ],
   "source": [
    "job_sim = qiskit.execute(qc, backend_sim, shots=1)\n",
    "result_sim = job_sim.result()\n",
    "counts = result_sim.get_counts(qc)\n",
    "print(counts)\n",
    "from qiskit.visualization import plot_histogram\n",
    "plot_histogram(counts)"
   ]
  },
  {
   "cell_type": "code",
   "execution_count": 34,
   "metadata": {},
   "outputs": [
    {
     "name": "stdout",
     "output_type": "stream",
     "text": [
      "11100100\n",
      "['0', '0', '1', '0', '0', '1', '1', '1']\n"
     ]
    }
   ],
   "source": [
    "result_str = list(counts)[0]\n",
    "print(result_str)\n",
    "\n",
    "bob_1.clear()\n",
    "for i in range(n):\n",
    "    bob_1.append(result_str[n-1-i])\n",
    "    \n",
    "print(bob_1)"
   ]
  },
  {
   "cell_type": "code",
   "execution_count": 65,
   "metadata": {},
   "outputs": [
    {
     "name": "stdout",
     "output_type": "stream",
     "text": [
      "key1 = ['0', '1', '0', '1', '1']\n",
      "the same position : [0, 2, 3, 6, 7]\n"
     ]
    }
   ],
   "source": [
    "key=[]\n",
    "pos=[]\n",
    "for i in range(n):\n",
    "    if alice_2[i]==bob_2[i]:\n",
    "        key.append(bob_1[i])\n",
    "        #print(i,end='')\n",
    "        pos.append(i)\n",
    "\n",
    "#print()\n",
    "print(\"key1 = {}\".format(key))\n",
    "print(\"the same position : {}\".format(pos))\n",
    "\n",
    "key2=key"
   ]
  },
  {
   "cell_type": "code",
   "execution_count": 66,
   "metadata": {},
   "outputs": [
    {
     "name": "stdout",
     "output_type": "stream",
     "text": [
      "['0', '1', '0', '1', '1']\n",
      "[0, 2, 3, 6, 7]\n",
      "5\n",
      "2\n",
      "rand = 0 check pos = 0\n",
      "rand = 1 check pos = 3\n",
      "['1', '1', '1']\n",
      "100.0%\n"
     ]
    }
   ],
   "source": [
    "#key2=key\n",
    "print(key2)\n",
    "print(pos)\n",
    "num=len(key2)\n",
    "total_times=len(key2)//2\n",
    "right_times = 0\n",
    "print(num)\n",
    "print(total_times)\n",
    "\n",
    "for i in range(total_times):\n",
    "    rand=random.randint(0,num-1)\n",
    "    if int(alice_1[pos[rand]])==int(bob_1[pos[rand]]):\n",
    "        right_times+=1\n",
    "    else :\n",
    "        print(\"different\")\n",
    "    #print(\"rand = {}\".format(rand),end=' ')\n",
    "    print(\"check pos = {}\".format(pos[rand]))\n",
    "    del key2[rand]\n",
    "    del pos[rand]\n",
    "    num-=1\n",
    "    \n",
    "print(key2)\n",
    "acc=(right_times/total_times)\n",
    "print(acc*100,end='')    \n",
    "print(\"%\")  "
   ]
  },
  {
   "cell_type": "code",
   "execution_count": null,
   "metadata": {},
   "outputs": [],
   "source": []
  },
  {
   "cell_type": "code",
   "execution_count": null,
   "metadata": {},
   "outputs": [],
   "source": []
  }
 ],
 "metadata": {
  "kernelspec": {
   "display_name": "Python 3",
   "language": "python",
   "name": "python3"
  },
  "language_info": {
   "codemirror_mode": {
    "name": "ipython",
    "version": 3
   },
   "file_extension": ".py",
   "mimetype": "text/x-python",
   "name": "python",
   "nbconvert_exporter": "python",
   "pygments_lexer": "ipython3",
   "version": "3.7.2"
  }
 },
 "nbformat": 4,
 "nbformat_minor": 2
}
